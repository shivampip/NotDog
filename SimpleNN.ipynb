{
  "nbformat": 4,
  "nbformat_minor": 0,
  "metadata": {
    "colab": {
      "name": "SimpleNN",
      "version": "0.3.2",
      "provenance": [],
      "collapsed_sections": [],
      "include_colab_link": true
    },
    "kernelspec": {
      "name": "python3",
      "display_name": "Python 3"
    }
  },
  "cells": [
    {
      "cell_type": "markdown",
      "metadata": {
        "id": "view-in-github",
        "colab_type": "text"
      },
      "source": [
        "<a href=\"https://colab.research.google.com/github/shivampip/NotDog/blob/master/SimpleNN.ipynb\" target=\"_parent\"><img src=\"https://colab.research.google.com/assets/colab-badge.svg\" alt=\"Open In Colab\"/></a>"
      ]
    },
    {
      "cell_type": "code",
      "metadata": {
        "id": "bJKm2KWcSv9O",
        "colab_type": "code",
        "colab": {}
      },
      "source": [
        "import numpy as np\n",
        "import matplotlib.pyplot as plt\n",
        "import tensorflow as tf"
      ],
      "execution_count": 0,
      "outputs": []
    },
    {
      "cell_type": "markdown",
      "metadata": {
        "id": "-GOURG-mRqE7",
        "colab_type": "text"
      },
      "source": [
        "### Data"
      ]
    },
    {
      "cell_type": "code",
      "metadata": {
        "id": "GF5zXqpQRxR1",
        "colab_type": "code",
        "colab": {}
      },
      "source": [
        "X= np.array([\n",
        "    [4,5],\n",
        "    [3.6,5],\n",
        "    [6,4],\n",
        "    [1,4.3],\n",
        "    [3,1],\n",
        "    [2.8,2],\n",
        "    [5.1,4],\n",
        "    [2.1,1.3],\n",
        "    [2.1, 1.3],\n",
        "    [6.7, 3.5],\n",
        "    [1.2, 4.0],\n",
        "    [2.1, 1.2],\n",
        "    [0.1, 3.4]\n",
        "])\n",
        "y= np.array([1,1,1,0,0,0,1,0,0,1,0,0,0])\n",
        "y= y.reshape((len(y),1))"
      ],
      "execution_count": 0,
      "outputs": []
    },
    {
      "cell_type": "code",
      "metadata": {
        "id": "iukUvWSrUdav",
        "colab_type": "code",
        "colab": {
          "base_uri": "https://localhost:8080/",
          "height": 286
        },
        "outputId": "1c081d52-ea84-482f-880b-dc0a6ca06e66"
      },
      "source": [
        "yy= y.reshape(y.shape[0])\n",
        "X_pass= X[yy==1]\n",
        "X_fail= X[yy==0]\n",
        "plt.scatter(X_pass[:,0], X_pass[:,1], color='green')\n",
        "plt.scatter(X_fail[:,0], X_fail[:,1], color='red')"
      ],
      "execution_count": 140,
      "outputs": [
        {
          "output_type": "execute_result",
          "data": {
            "text/plain": [
              "<matplotlib.collections.PathCollection at 0x7febb5a4dc18>"
            ]
          },
          "metadata": {
            "tags": []
          },
          "execution_count": 140
        },
        {
          "output_type": "display_data",
          "data": {
            "image/png": "[encoded data removed]",
            "text/plain": [
              "<Figure size 432x288 with 1 Axes>"
            ]
          },
          "metadata": {
            "tags": []
          }
        }
      ]
    },
    {
      "cell_type": "code",
      "metadata": {
        "id": "o_0d2MJiTpzT",
        "colab_type": "code",
        "colab": {
          "base_uri": "https://localhost:8080/",
          "height": 50
        },
        "outputId": "ecb158b8-23ec-4533-98cc-8e1671226d6b"
      },
      "source": [
        "print(X.shape)\n",
        "print(y.shape)"
      ],
      "execution_count": 141,
      "outputs": [
        {
          "output_type": "stream",
          "text": [
            "(13, 2)\n",
            "(13, 1)\n"
          ],
          "name": "stdout"
        }
      ]
    },
    {
      "cell_type": "markdown",
      "metadata": {
        "id": "h6HnalsJVzLT",
        "colab_type": "text"
      },
      "source": [
        "### Model Building"
      ]
    },
    {
      "cell_type": "code",
      "metadata": {
        "id": "VWgr_9OcV3Bh",
        "colab_type": "code",
        "colab": {}
      },
      "source": [
        "inp= tf.keras.layers.Input(shape=(2,))\n",
        "#hidden= tf.keras.layers.Dense(4, activation= 'relu')(inp)\n",
        "hidden= tf.keras.layers.Dense(2, activation= 'relu')(inp)\n",
        "out= tf.keras.layers.Dense(1, activation= 'relu')(hidden)"
      ],
      "execution_count": 0,
      "outputs": []
    },
    {
      "cell_type": "code",
      "metadata": {
        "id": "mAEGWmedWRLg",
        "colab_type": "code",
        "colab": {
          "base_uri": "https://localhost:8080/",
          "height": 235
        },
        "outputId": "f8394bcd-e527-439e-bd19-b9cbbeffefc9"
      },
      "source": [
        "model= tf.keras.Model(inp, out)\n",
        "model.summary()"
      ],
      "execution_count": 143,
      "outputs": [
        {
          "output_type": "stream",
          "text": [
            "_________________________________________________________________\n",
            "Layer (type)                 Output Shape              Param #   \n",
            "=================================================================\n",
            "input_16 (InputLayer)        (None, 2)                 0         \n",
            "_________________________________________________________________\n",
            "dense_26 (Dense)             (None, 2)                 6         \n",
            "_________________________________________________________________\n",
            "dense_27 (Dense)             (None, 1)                 3         \n",
            "=================================================================\n",
            "Total params: 9\n",
            "Trainable params: 9\n",
            "Non-trainable params: 0\n",
            "_________________________________________________________________\n"
          ],
          "name": "stdout"
        }
      ]
    },
    {
      "cell_type": "code",
      "metadata": {
        "id": "ifxWdsFMWm1O",
        "colab_type": "code",
        "colab": {}
      },
      "source": [
        "model.compile(loss='binary_crossentropy',\n",
        "              optimizer= tf.keras.optimizers.Adam(),\n",
        "              metrics= ['acc'])              "
      ],
      "execution_count": 0,
      "outputs": []
    },
    {
      "cell_type": "code",
      "metadata": {
        "id": "pxBCXWZeYHTN",
        "colab_type": "code",
        "colab": {}
      },
      "source": [
        "X/=np.max(X)"
      ],
      "execution_count": 0,
      "outputs": []
    },
    {
      "cell_type": "code",
      "metadata": {
        "id": "A3w4IXhEXPXv",
        "colab_type": "code",
        "colab": {
          "base_uri": "https://localhost:8080/",
          "height": 370
        },
        "outputId": "d635c520-32d1-4496-93cd-ca1bb862ea7e"
      },
      "source": [
        "model.fit(X, y, epochs= 10)"
      ],
      "execution_count": 146,
      "outputs": [
        {
          "output_type": "stream",
          "text": [
            "Epoch 1/10\n",
            "13/13 [==============================] - 0s 24ms/sample - loss: 6.1993 - acc: 0.6154\n",
            "Epoch 2/10\n",
            "13/13 [==============================] - 0s 202us/sample - loss: 6.1993 - acc: 0.6154\n",
            "Epoch 3/10\n",
            "13/13 [==============================] - 0s 212us/sample - loss: 6.1993 - acc: 0.6154\n",
            "Epoch 4/10\n",
            "13/13 [==============================] - 0s 242us/sample - loss: 6.1993 - acc: 0.6154\n",
            "Epoch 5/10\n",
            "13/13 [==============================] - 0s 314us/sample - loss: 6.1993 - acc: 0.6154\n",
            "Epoch 6/10\n",
            "13/13 [==============================] - 0s 205us/sample - loss: 6.1993 - acc: 0.6154\n",
            "Epoch 7/10\n",
            "13/13 [==============================] - 0s 197us/sample - loss: 6.1993 - acc: 0.6154\n",
            "Epoch 8/10\n",
            "13/13 [==============================] - 0s 219us/sample - loss: 6.1993 - acc: 0.6154\n",
            "Epoch 9/10\n",
            "13/13 [==============================] - 0s 203us/sample - loss: 6.1993 - acc: 0.6154\n",
            "Epoch 10/10\n",
            "13/13 [==============================] - 0s 184us/sample - loss: 6.1993 - acc: 0.6154\n"
          ],
          "name": "stdout"
        },
        {
          "output_type": "execute_result",
          "data": {
            "text/plain": [
              "<tensorflow.python.keras.callbacks.History at 0x7febb5785b38>"
            ]
          },
          "metadata": {
            "tags": []
          },
          "execution_count": 146
        }
      ]
    },
    {
      "cell_type": "code",
      "metadata": {
        "id": "E4W2SVHOXRkt",
        "colab_type": "code",
        "colab": {
          "base_uri": "https://localhost:8080/",
          "height": 50
        },
        "outputId": "9476c677-9494-4fa1-9755-bf9fab5b2bc3"
      },
      "source": [
        "model.predict(np.array([[5,5],[1,2]]))"
      ],
      "execution_count": 147,
      "outputs": [
        {
          "output_type": "execute_result",
          "data": {
            "text/plain": [
              "array([[0.],\n",
              "       [0.]], dtype=float32)"
            ]
          },
          "metadata": {
            "tags": []
          },
          "execution_count": 147
        }
      ]
    },
    {
      "cell_type": "markdown",
      "metadata": {
        "id": "UhZzN4i7bCUW",
        "colab_type": "text"
      },
      "source": [
        "# WHY ???"
      ]
    }
  ]
}